{
 "cells": [
  {
   "cell_type": "code",
   "execution_count": 1,
   "id": "2adc504a-83b1-46f6-9d97-19a2135aea8b",
   "metadata": {},
   "outputs": [
    {
     "name": "stdout",
     "output_type": "stream",
     "text": [
      "\u001b[31mERROR: pip's dependency resolver does not currently take into account all the packages that are installed. This behaviour is the source of the following dependency conflicts.\n",
      "unstructured-client 0.28.1 requires pydantic<2.10.0,>=2.9.2, but you have pydantic 2.10.6 which is incompatible.\n",
      "prodigy 1.15.7 requires spacy<3.8.0,>=3.1.1, but you have spacy 3.8.3 which is incompatible.\n",
      "prodigy 1.15.7 requires uvicorn<0.27.0,>=0.13.3, but you have uvicorn 0.29.0 which is incompatible.\n",
      "langchain-core 0.1.23 requires packaging<24.0,>=23.2, but you have packaging 24.2 which is incompatible.\n",
      "label-studio 1.11.0 requires bleach<5.1.0,>=5.0.0, but you have bleach 6.2.0 which is incompatible.\n",
      "label-studio 1.11.0 requires jsonschema==3.2.0, but you have jsonschema 4.23.0 which is incompatible.\n",
      "label-studio 1.11.0 requires pydantic<=1.11.0,>=1.7.3, but you have pydantic 2.10.6 which is incompatible.\n",
      "label-studio 1.11.0 requires python-json-logger==2.0.4, but you have python-json-logger 3.2.1 which is incompatible.\n",
      "label-studio 1.11.0 requires redis<4.0,>=3.5, but you have redis 5.0.8 which is incompatible.\n",
      "label-studio 1.11.0 requires requests==2.31.0, but you have requests 2.32.3 which is incompatible.\n",
      "label-studio 1.11.0 requires urllib3<2.0.0,>=1.26.18, but you have urllib3 2.3.0 which is incompatible.\n",
      "ja-core-news-trf 3.7.2 requires spacy<3.8.0,>=3.7.0, but you have spacy 3.8.3 which is incompatible.\n",
      "instructor 1.4.3 requires rich<14.0.0,>=13.7.0, but you have rich 13.0.1 which is incompatible.\n",
      "guardrails-ai 0.4.3 requires regex<2024.0.0,>=2023.10.3, but you have regex 2024.11.6 which is incompatible.\n",
      "guardrails-ai 0.4.3 requires rich<14.0.0,>=13.6.0, but you have rich 13.0.1 which is incompatible.\n",
      "guardrails-ai 0.4.3 requires tiktoken<0.6.0,>=0.5.1, but you have tiktoken 0.6.0 which is incompatible.\n",
      "guardrails-ai 0.4.3 requires typer[all]<0.10.0,>=0.9.0, but you have typer 0.12.5 which is incompatible.\n",
      "gradio 4.19.2 requires aiofiles<24.0,>=22.0, but you have aiofiles 24.1.0 which is incompatible.\n",
      "gradio 4.19.2 requires markupsafe~=2.0, but you have markupsafe 3.0.2 which is incompatible.\n",
      "en-core-web-sm 3.7.1 requires spacy<3.8.0,>=3.7.2, but you have spacy 3.8.3 which is incompatible.\u001b[0m\u001b[31m\n",
      "\u001b[0m\n",
      "\u001b[1m[\u001b[0m\u001b[34;49mnotice\u001b[0m\u001b[1;39;49m]\u001b[0m\u001b[39;49m A new release of pip is available: \u001b[0m\u001b[31;49m23.0.1\u001b[0m\u001b[39;49m -> \u001b[0m\u001b[32;49m24.3.1\u001b[0m\n",
      "\u001b[1m[\u001b[0m\u001b[34;49mnotice\u001b[0m\u001b[1;39;49m]\u001b[0m\u001b[39;49m To update, run: \u001b[0m\u001b[32;49mpip install --upgrade pip\u001b[0m\n"
     ]
    }
   ],
   "source": [
    "!pip install --quiet --upgrade pydantic outlines"
   ]
  },
  {
   "cell_type": "code",
   "execution_count": 2,
   "id": "b4f4c89b-ab1a-4eb2-aaa9-96fbdc7dc375",
   "metadata": {},
   "outputs": [],
   "source": [
    "content = \"Hi, I'm Jonathan Soma, and I'm giving this talk at the Abraji Conference in Sāo Paulo\""
   ]
  },
  {
   "cell_type": "code",
   "execution_count": 3,
   "id": "92ac887f-9161-43e7-aa0e-f2f268318413",
   "metadata": {},
   "outputs": [
    {
     "data": {
      "application/vnd.jupyter.widget-view+json": {
       "model_id": "011afab79d3f453485d51eb0a06186de",
       "version_major": 2,
       "version_minor": 0
      },
      "text/plain": [
       "config.json:   0%|          | 0.00/967 [00:00<?, ?B/s]"
      ]
     },
     "metadata": {},
     "output_type": "display_data"
    },
    {
     "data": {
      "application/vnd.jupyter.widget-view+json": {
       "model_id": "54bc5b13d8a741b9bf958ecfa60c4719",
       "version_major": 2,
       "version_minor": 0
      },
      "text/plain": [
       "model.safetensors.index.json:   0%|          | 0.00/16.5k [00:00<?, ?B/s]"
      ]
     },
     "metadata": {},
     "output_type": "display_data"
    },
    {
     "data": {
      "application/vnd.jupyter.widget-view+json": {
       "model_id": "947ad804eee042cba507feb8f46f10bb",
       "version_major": 2,
       "version_minor": 0
      },
      "text/plain": [
       "Downloading shards:   0%|          | 0/2 [00:00<?, ?it/s]"
      ]
     },
     "metadata": {},
     "output_type": "display_data"
    },
    {
     "data": {
      "application/vnd.jupyter.widget-view+json": {
       "model_id": "274c4cdae2804e8fa4eb8ee660860e2e",
       "version_major": 2,
       "version_minor": 0
      },
      "text/plain": [
       "model-00001-of-00002.safetensors:   0%|          | 0.00/4.97G [00:00<?, ?B/s]"
      ]
     },
     "metadata": {},
     "output_type": "display_data"
    },
    {
     "data": {
      "application/vnd.jupyter.widget-view+json": {
       "model_id": "c19eea891a2345c4a7f9cfcd53f40f06",
       "version_major": 2,
       "version_minor": 0
      },
      "text/plain": [
       "model-00002-of-00002.safetensors:   0%|          | 0.00/2.67G [00:00<?, ?B/s]"
      ]
     },
     "metadata": {},
     "output_type": "display_data"
    },
    {
     "data": {
      "application/vnd.jupyter.widget-view+json": {
       "model_id": "2b355bd1651b48af9f95168bd09cc1eb",
       "version_major": 2,
       "version_minor": 0
      },
      "text/plain": [
       "Loading checkpoint shards:   0%|          | 0/2 [00:00<?, ?it/s]"
      ]
     },
     "metadata": {},
     "output_type": "display_data"
    },
    {
     "data": {
      "application/vnd.jupyter.widget-view+json": {
       "model_id": "824cfc4881134272b5e1265bf08e2006",
       "version_major": 2,
       "version_minor": 0
      },
      "text/plain": [
       "generation_config.json:   0%|          | 0.00/181 [00:00<?, ?B/s]"
      ]
     },
     "metadata": {},
     "output_type": "display_data"
    },
    {
     "data": {
      "application/vnd.jupyter.widget-view+json": {
       "model_id": "6a6d55c3db8346b6a31482d7055addc9",
       "version_major": 2,
       "version_minor": 0
      },
      "text/plain": [
       "tokenizer_config.json:   0%|          | 0.00/3.44k [00:00<?, ?B/s]"
      ]
     },
     "metadata": {},
     "output_type": "display_data"
    },
    {
     "data": {
      "application/vnd.jupyter.widget-view+json": {
       "model_id": "4288484c532e41b682d118ce5311b4b6",
       "version_major": 2,
       "version_minor": 0
      },
      "text/plain": [
       "tokenizer.model:   0%|          | 0.00/500k [00:00<?, ?B/s]"
      ]
     },
     "metadata": {},
     "output_type": "display_data"
    },
    {
     "data": {
      "application/vnd.jupyter.widget-view+json": {
       "model_id": "dc7bdd91a0ac4560b45786ba40c67ba6",
       "version_major": 2,
       "version_minor": 0
      },
      "text/plain": [
       "tokenizer.json:   0%|          | 0.00/1.94M [00:00<?, ?B/s]"
      ]
     },
     "metadata": {},
     "output_type": "display_data"
    },
    {
     "data": {
      "application/vnd.jupyter.widget-view+json": {
       "model_id": "b3f3a51703f74020a3cb673110444671",
       "version_major": 2,
       "version_minor": 0
      },
      "text/plain": [
       "added_tokens.json:   0%|          | 0.00/306 [00:00<?, ?B/s]"
      ]
     },
     "metadata": {},
     "output_type": "display_data"
    },
    {
     "data": {
      "application/vnd.jupyter.widget-view+json": {
       "model_id": "c2e06f44c46f4e218e618c9193f4d9a9",
       "version_major": 2,
       "version_minor": 0
      },
      "text/plain": [
       "special_tokens_map.json:   0%|          | 0.00/599 [00:00<?, ?B/s]"
      ]
     },
     "metadata": {},
     "output_type": "display_data"
    }
   ],
   "source": [
    "from pydantic import BaseModel\n",
    "from typing import List, Literal\n",
    "import outlines\n",
    "\n",
    "class Entity(BaseModel):\n",
    "    text: str\n",
    "    type: Literal[\"PERSON\", \"EVENT\", \"ORGANIZATION\", \"LOCATION\"]\n",
    "\n",
    "class EntityList(BaseModel):\n",
    "    entities: List[Entity]\n",
    "\n",
    "\n",
    "# Our local model\n",
    "model = outlines.models.transformers(\"microsoft/Phi-3-mini-4k-instruct\")\n",
    "\n",
    "# Construct structured sequence generator\n",
    "generator = outlines.generate.json(model, EntityList)\n",
    "response = generator(f\"\"\"\n",
    "\t## INSTRUCTIONS\n",
    "    \n",
    "\tReturn the information below in the following JSON schema:\n",
    "    {EntityList.model_json_schema()}\n",
    "\n",
    "\t## CONTENT\n",
    "    \n",
    "    {content}\n",
    "    \"\"\") "
   ]
  },
  {
   "cell_type": "code",
   "execution_count": 4,
   "id": "2073c001-73cc-4ef9-a4cc-be437bdf257b",
   "metadata": {},
   "outputs": [
    {
     "data": {
      "text/plain": [
       "EntityList(entities=[Entity(text='Jonathan Soma', type='PERSON'), Entity(text='Abraji Conference', type='EVENT'), Entity(text='Sāo Paulo', type='LOCATION')])"
      ]
     },
     "execution_count": 4,
     "metadata": {},
     "output_type": "execute_result"
    }
   ],
   "source": [
    "response"
   ]
  },
  {
   "cell_type": "code",
   "execution_count": null,
   "id": "b3ee0f36-f0a5-47d6-a09c-1056b91b00bc",
   "metadata": {},
   "outputs": [],
   "source": []
  }
 ],
 "metadata": {
  "kernelspec": {
   "display_name": "Python 3 (ipykernel)",
   "language": "python",
   "name": "python3"
  },
  "language_info": {
   "codemirror_mode": {
    "name": "ipython",
    "version": 3
   },
   "file_extension": ".py",
   "mimetype": "text/x-python",
   "name": "python",
   "nbconvert_exporter": "python",
   "pygments_lexer": "ipython3",
   "version": "3.10.13"
  }
 },
 "nbformat": 4,
 "nbformat_minor": 5
}
